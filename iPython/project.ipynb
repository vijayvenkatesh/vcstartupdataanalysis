{
 "metadata": {
  "name": ""
 },
 "nbformat": 3,
 "nbformat_minor": 0,
 "worksheets": [
  {
   "cells": [
    {
     "cell_type": "code",
     "collapsed": false,
     "input": [
      "from pandas import DataFrame, read_csv, read_excel\n",
      "import pandas as pd\n",
      "import matplotlib.pyplot as plt\n",
      "# Initializing dependencies and import packages"
     ],
     "language": "python",
     "metadata": {},
     "outputs": [],
     "prompt_number": 50
    },
    {
     "cell_type": "code",
     "collapsed": false,
     "input": [
      "companies = read_excel('/Users/vijay/src/vcstartupdataanalysis/data/crunchbase_monthly_export.xlsx', 'Companies', index_col=None)\n",
      "rounds = read_excel('/Users/vijay/src/vcstartupdataanalysis/data/crunchbase_monthly_export.xlsx', 'Rounds', index_col=None)\n",
      "investments = read_excel('/Users/vijay/src/vcstartupdataanalysis/data/crunchbase_monthly_export.xlsx', 'Investments', index_col=None)\n",
      "acquisitions = read_excel('/Users/vijay/src/vcstartupdataanalysis/data/crunchbase_monthly_export.xlsx', 'Acquisitions', index_col=None)\n",
      "additions = read_excel('/Users/vijay/src/vcstartupdataanalysis/data/crunchbase_monthly_export.xlsx', 'Additions', index_col=None)\n"
     ],
     "language": "python",
     "metadata": {},
     "outputs": [],
     "prompt_number": 51
    },
    {
     "cell_type": "code",
     "collapsed": false,
     "input": [
      "companies['city'].fillna('unknown', inplace=True)\n",
      "topcities = DataFrame(companies.city.value_counts()[:30], columns=['counts'])\n",
      "topcities.head()"
     ],
     "language": "python",
     "metadata": {},
     "outputs": [
      {
       "html": [
        "<div style=\"max-height:1000px;max-width:1500px;overflow:auto;\">\n",
        "<table border=\"1\" class=\"dataframe\">\n",
        "  <thead>\n",
        "    <tr style=\"text-align: right;\">\n",
        "      <th></th>\n",
        "      <th>counts</th>\n",
        "    </tr>\n",
        "  </thead>\n",
        "  <tbody>\n",
        "    <tr>\n",
        "      <th>unknown</th>\n",
        "      <td> 3302</td>\n",
        "    </tr>\n",
        "    <tr>\n",
        "      <th>San Francisco</th>\n",
        "      <td> 1935</td>\n",
        "    </tr>\n",
        "    <tr>\n",
        "      <th>New York</th>\n",
        "      <td> 1603</td>\n",
        "    </tr>\n",
        "    <tr>\n",
        "      <th>London</th>\n",
        "      <td>  858</td>\n",
        "    </tr>\n",
        "    <tr>\n",
        "      <th>Palo Alto</th>\n",
        "      <td>  472</td>\n",
        "    </tr>\n",
        "  </tbody>\n",
        "</table>\n",
        "</div>"
       ],
       "metadata": {},
       "output_type": "pyout",
       "prompt_number": 52,
       "text": [
        "               counts\n",
        "unknown          3302\n",
        "San Francisco    1935\n",
        "New York         1603\n",
        "London            858\n",
        "Palo Alto         472"
       ]
      }
     ],
     "prompt_number": 52
    },
    {
     "cell_type": "code",
     "collapsed": false,
     "input": [
      "topcities.reset_index(inplace=True) # super important\n",
      "topcities.columns = ['city','count']\n",
      "topcities = topcities[topcities.city != 'unknown']\n",
      "topcities.head()"
     ],
     "language": "python",
     "metadata": {},
     "outputs": [
      {
       "html": [
        "<div style=\"max-height:1000px;max-width:1500px;overflow:auto;\">\n",
        "<table border=\"1\" class=\"dataframe\">\n",
        "  <thead>\n",
        "    <tr style=\"text-align: right;\">\n",
        "      <th></th>\n",
        "      <th>city</th>\n",
        "      <th>count</th>\n",
        "    </tr>\n",
        "  </thead>\n",
        "  <tbody>\n",
        "    <tr>\n",
        "      <th>1</th>\n",
        "      <td> San Francisco</td>\n",
        "      <td> 1935</td>\n",
        "    </tr>\n",
        "    <tr>\n",
        "      <th>2</th>\n",
        "      <td>      New York</td>\n",
        "      <td> 1603</td>\n",
        "    </tr>\n",
        "    <tr>\n",
        "      <th>3</th>\n",
        "      <td>        London</td>\n",
        "      <td>  858</td>\n",
        "    </tr>\n",
        "    <tr>\n",
        "      <th>4</th>\n",
        "      <td>     Palo Alto</td>\n",
        "      <td>  472</td>\n",
        "    </tr>\n",
        "    <tr>\n",
        "      <th>5</th>\n",
        "      <td>     Cambridge</td>\n",
        "      <td>  447</td>\n",
        "    </tr>\n",
        "  </tbody>\n",
        "</table>\n",
        "</div>"
       ],
       "metadata": {},
       "output_type": "pyout",
       "prompt_number": 53,
       "text": [
        "            city  count\n",
        "1  San Francisco   1935\n",
        "2       New York   1603\n",
        "3         London    858\n",
        "4      Palo Alto    472\n",
        "5      Cambridge    447"
       ]
      }
     ],
     "prompt_number": 53
    },
    {
     "cell_type": "code",
     "collapsed": false,
     "input": [
      "plt.close()\n",
      "topcities.plot(x='city',y='count',kind='bar', figsize=(15,10), title='startups by city', color='b')\n",
      "plt.ylabel('Startups founded')\n",
      "plt.xlabel('Founding cities')"
     ],
     "language": "python",
     "metadata": {},
     "outputs": [
      {
       "metadata": {},
       "output_type": "pyout",
       "prompt_number": 54,
       "text": [
        "<matplotlib.text.Text at 0x110d51b10>"
       ]
      }
     ],
     "prompt_number": 54
    },
    {
     "cell_type": "code",
     "collapsed": false,
     "input": [
      "startupsbyyear = companies.groupby('founded_year').size()[50:] # Group by year and size \n",
      "startupsbyyear.plot(title='Startups founded by year', figsize=(12,9))\n",
      "plt.ylabel('Startups founded')"
     ],
     "language": "python",
     "metadata": {},
     "outputs": [
      {
       "metadata": {},
       "output_type": "pyout",
       "prompt_number": 56,
       "text": [
        "<matplotlib.text.Text at 0x11098fdd0>"
       ]
      }
     ],
     "prompt_number": 56
    },
    {
     "cell_type": "code",
     "collapsed": false,
     "input": [
      "startupsbyyear.plot(kind='bar',title='StartupsbyYear',figsize=(20,12)) \n",
      "plt.ylabel('Startups founded')\n",
      "plt.xlabel('Founded Year')\n",
      "plt.ylim(0,4000)\n",
      "plt.yticks([x*250 for x in range(16)])\n",
      "startupsbyyear.head()"
     ],
     "language": "python",
     "metadata": {},
     "outputs": [
      {
       "metadata": {},
       "output_type": "pyout",
       "prompt_number": 57,
       "text": [
        "founded_year\n",
        "1973            10\n",
        "1974            10\n",
        "1975            12\n",
        "1976            14\n",
        "1977             7\n",
        "dtype: int64"
       ]
      }
     ],
     "prompt_number": 57
    },
    {
     "cell_type": "code",
     "collapsed": false,
     "input": [
      "domains = companies.groupby('category_code').size()\n",
      "domains.sort(ascending=False)\n",
      "domains.head()\n",
      "from pylab import *\n",
      "\n",
      "# make a square figure and axes\n",
      "figure(1, figsize=(6,6))\n",
      "ax = axes([0.1, 0.1, 0.8, 0.8])\n",
      "\n",
      "# The slices will be ordered and plotted counter-clockwise.\n",
      "labels = 'Software', 'Biotech', 'Web', 'Mobile', 'Enterprise'\n",
      "\n",
      "\n",
      "pie(domains[:5], labels=labels,\n",
      "                autopct='%1.1f%%', shadow=True, startangle=90)\n",
      "                # The default startangle is 0, which would start\n",
      "                # the Frogs slice on the x-axis.  With startangle=90,\n",
      "                # everything is rotated counter-clockwise by 90 degrees,\n",
      "                # so the plotting starts on the positive y-axis.\n",
      "\n",
      "title('Top 5 startup domains', bbox={'facecolor':'0.8', 'pad':5})\n",
      "\n",
      "show()"
     ],
     "language": "python",
     "metadata": {},
     "outputs": [],
     "prompt_number": 59
    },
    {
     "cell_type": "code",
     "collapsed": false,
     "input": [
      "invbyyear = DataFrame(investments.groupby('funded_year').raised_amount_usd.mean())\n",
      "invbyyear.reset_index(inplace=True)\n",
      "invbyyear.columns = ['funded_year', 'funding']\n",
      "#invbyyear.funding.interpolate()\n",
      "invbyyear.head()\n"
     ],
     "language": "python",
     "metadata": {},
     "outputs": [
      {
       "html": [
        "<div style=\"max-height:1000px;max-width:1500px;overflow:auto;\">\n",
        "<table border=\"1\" class=\"dataframe\">\n",
        "  <thead>\n",
        "    <tr style=\"text-align: right;\">\n",
        "      <th></th>\n",
        "      <th>funded_year</th>\n",
        "      <th>funding</th>\n",
        "    </tr>\n",
        "  </thead>\n",
        "  <tbody>\n",
        "    <tr>\n",
        "      <th>0</th>\n",
        "      <td> 1974</td>\n",
        "      <td>     NaN</td>\n",
        "    </tr>\n",
        "    <tr>\n",
        "      <th>1</th>\n",
        "      <td> 1984</td>\n",
        "      <td>  200000</td>\n",
        "    </tr>\n",
        "    <tr>\n",
        "      <th>2</th>\n",
        "      <td> 1987</td>\n",
        "      <td> 2500000</td>\n",
        "    </tr>\n",
        "    <tr>\n",
        "      <th>3</th>\n",
        "      <td> 1992</td>\n",
        "      <td> 2000000</td>\n",
        "    </tr>\n",
        "    <tr>\n",
        "      <th>4</th>\n",
        "      <td> 1993</td>\n",
        "      <td>     NaN</td>\n",
        "    </tr>\n",
        "  </tbody>\n",
        "</table>\n",
        "</div>"
       ],
       "metadata": {},
       "output_type": "pyout",
       "prompt_number": 61,
       "text": [
        "   funded_year  funding\n",
        "0         1974      NaN\n",
        "1         1984   200000\n",
        "2         1987  2500000\n",
        "3         1992  2000000\n",
        "4         1993      NaN"
       ]
      }
     ],
     "prompt_number": 61
    },
    {
     "cell_type": "code",
     "collapsed": false,
     "input": [
      "invbyyear.funding.fillna(invbyyear.funding.mean(), inplace=True)\n",
      "invbyyear.head() # filled two funding rows with mean values"
     ],
     "language": "python",
     "metadata": {},
     "outputs": [
      {
       "html": [
        "<div style=\"max-height:1000px;max-width:1500px;overflow:auto;\">\n",
        "<table border=\"1\" class=\"dataframe\">\n",
        "  <thead>\n",
        "    <tr style=\"text-align: right;\">\n",
        "      <th></th>\n",
        "      <th>funded_year</th>\n",
        "      <th>funding</th>\n",
        "    </tr>\n",
        "  </thead>\n",
        "  <tbody>\n",
        "    <tr>\n",
        "      <th>0</th>\n",
        "      <td> 1974</td>\n",
        "      <td> 11664509.433361</td>\n",
        "    </tr>\n",
        "    <tr>\n",
        "      <th>1</th>\n",
        "      <td> 1984</td>\n",
        "      <td>   200000.000000</td>\n",
        "    </tr>\n",
        "    <tr>\n",
        "      <th>2</th>\n",
        "      <td> 1987</td>\n",
        "      <td>  2500000.000000</td>\n",
        "    </tr>\n",
        "    <tr>\n",
        "      <th>3</th>\n",
        "      <td> 1992</td>\n",
        "      <td>  2000000.000000</td>\n",
        "    </tr>\n",
        "    <tr>\n",
        "      <th>4</th>\n",
        "      <td> 1993</td>\n",
        "      <td> 11664509.433361</td>\n",
        "    </tr>\n",
        "  </tbody>\n",
        "</table>\n",
        "</div>"
       ],
       "metadata": {},
       "output_type": "pyout",
       "prompt_number": 62,
       "text": [
        "   funded_year          funding\n",
        "0         1974  11664509.433361\n",
        "1         1984    200000.000000\n",
        "2         1987   2500000.000000\n",
        "3         1992   2000000.000000\n",
        "4         1993  11664509.433361"
       ]
      }
     ],
     "prompt_number": 62
    },
    {
     "cell_type": "code",
     "collapsed": false,
     "input": [
      "plt.close()\n",
      "plt.ylim(500000,15000000)\n",
      "invbyyear.plot(kind='bar',x='funded_year', y='funding',title='Funding by year', figsize=(15,12) )\n",
      "plt.ylabel('Funding activity')"
     ],
     "language": "python",
     "metadata": {},
     "outputs": [
      {
       "metadata": {},
       "output_type": "pyout",
       "prompt_number": 63,
       "text": [
        "<matplotlib.text.Text at 0x10cd7e350>"
       ]
      }
     ],
     "prompt_number": 63
    },
    {
     "cell_type": "code",
     "collapsed": false,
     "input": [
      "startupsbyyear = DataFrame(startupsbyyear)\n",
      "invbyyear=invbyyear.rename(columns = {'funded_year':'year'})\n",
      "startupsbyyear.reset_index(inplace=True)\n",
      "startupsbyyear=startupsbyyear.rename(columns = {'founded_year':'year'})\n",
      "#startupsbyyear.columns = ['year','count']\n",
      "startupsbyyear.head()"
     ],
     "language": "python",
     "metadata": {},
     "outputs": [
      {
       "html": [
        "<div style=\"max-height:1000px;max-width:1500px;overflow:auto;\">\n",
        "<table border=\"1\" class=\"dataframe\">\n",
        "  <thead>\n",
        "    <tr style=\"text-align: right;\">\n",
        "      <th></th>\n",
        "      <th>year</th>\n",
        "      <th>0</th>\n",
        "    </tr>\n",
        "  </thead>\n",
        "  <tbody>\n",
        "    <tr>\n",
        "      <th>0</th>\n",
        "      <td> 1973</td>\n",
        "      <td> 10</td>\n",
        "    </tr>\n",
        "    <tr>\n",
        "      <th>1</th>\n",
        "      <td> 1974</td>\n",
        "      <td> 10</td>\n",
        "    </tr>\n",
        "    <tr>\n",
        "      <th>2</th>\n",
        "      <td> 1975</td>\n",
        "      <td> 12</td>\n",
        "    </tr>\n",
        "    <tr>\n",
        "      <th>3</th>\n",
        "      <td> 1976</td>\n",
        "      <td> 14</td>\n",
        "    </tr>\n",
        "    <tr>\n",
        "      <th>4</th>\n",
        "      <td> 1977</td>\n",
        "      <td>  7</td>\n",
        "    </tr>\n",
        "  </tbody>\n",
        "</table>\n",
        "</div>"
       ],
       "metadata": {},
       "output_type": "pyout",
       "prompt_number": 64,
       "text": [
        "   year   0\n",
        "0  1973  10\n",
        "1  1974  10\n",
        "2  1975  12\n",
        "3  1976  14\n",
        "4  1977   7"
       ]
      }
     ],
     "prompt_number": 64
    },
    {
     "cell_type": "code",
     "collapsed": false,
     "input": [
      "startupsbyyear = startupsbyyear.rename(columns={0:'count'})\n",
      "startupsbyyear.head()"
     ],
     "language": "python",
     "metadata": {},
     "outputs": [
      {
       "html": [
        "<div style=\"max-height:1000px;max-width:1500px;overflow:auto;\">\n",
        "<table border=\"1\" class=\"dataframe\">\n",
        "  <thead>\n",
        "    <tr style=\"text-align: right;\">\n",
        "      <th></th>\n",
        "      <th>year</th>\n",
        "      <th>count</th>\n",
        "    </tr>\n",
        "  </thead>\n",
        "  <tbody>\n",
        "    <tr>\n",
        "      <th>0</th>\n",
        "      <td> 1973</td>\n",
        "      <td> 10</td>\n",
        "    </tr>\n",
        "    <tr>\n",
        "      <th>1</th>\n",
        "      <td> 1974</td>\n",
        "      <td> 10</td>\n",
        "    </tr>\n",
        "    <tr>\n",
        "      <th>2</th>\n",
        "      <td> 1975</td>\n",
        "      <td> 12</td>\n",
        "    </tr>\n",
        "    <tr>\n",
        "      <th>3</th>\n",
        "      <td> 1976</td>\n",
        "      <td> 14</td>\n",
        "    </tr>\n",
        "    <tr>\n",
        "      <th>4</th>\n",
        "      <td> 1977</td>\n",
        "      <td>  7</td>\n",
        "    </tr>\n",
        "  </tbody>\n",
        "</table>\n",
        "</div>"
       ],
       "metadata": {},
       "output_type": "pyout",
       "prompt_number": 71,
       "text": [
        "   year  count\n",
        "0  1973     10\n",
        "1  1974     10\n",
        "2  1975     12\n",
        "3  1976     14\n",
        "4  1977      7"
       ]
      }
     ],
     "prompt_number": 71
    },
    {
     "cell_type": "code",
     "collapsed": false,
     "input": [
      "invbyyear.head()"
     ],
     "language": "python",
     "metadata": {},
     "outputs": [
      {
       "html": [
        "<div style=\"max-height:1000px;max-width:1500px;overflow:auto;\">\n",
        "<table border=\"1\" class=\"dataframe\">\n",
        "  <thead>\n",
        "    <tr style=\"text-align: right;\">\n",
        "      <th></th>\n",
        "      <th>year</th>\n",
        "      <th>funding</th>\n",
        "    </tr>\n",
        "  </thead>\n",
        "  <tbody>\n",
        "    <tr>\n",
        "      <th>0</th>\n",
        "      <td> 1974</td>\n",
        "      <td> 11664509.433361</td>\n",
        "    </tr>\n",
        "    <tr>\n",
        "      <th>1</th>\n",
        "      <td> 1984</td>\n",
        "      <td>   200000.000000</td>\n",
        "    </tr>\n",
        "    <tr>\n",
        "      <th>2</th>\n",
        "      <td> 1987</td>\n",
        "      <td>  2500000.000000</td>\n",
        "    </tr>\n",
        "    <tr>\n",
        "      <th>3</th>\n",
        "      <td> 1992</td>\n",
        "      <td>  2000000.000000</td>\n",
        "    </tr>\n",
        "    <tr>\n",
        "      <th>4</th>\n",
        "      <td> 1993</td>\n",
        "      <td> 11664509.433361</td>\n",
        "    </tr>\n",
        "  </tbody>\n",
        "</table>\n",
        "</div>"
       ],
       "metadata": {},
       "output_type": "pyout",
       "prompt_number": 72,
       "text": [
        "   year          funding\n",
        "0  1974  11664509.433361\n",
        "1  1984    200000.000000\n",
        "2  1987   2500000.000000\n",
        "3  1992   2000000.000000\n",
        "4  1993  11664509.433361"
       ]
      }
     ],
     "prompt_number": 72
    },
    {
     "cell_type": "code",
     "collapsed": false,
     "input": [
      "startupsbyfunding = pd.merge(startupsbyyear, invbyyear)\n",
      "#startupsbyfunding = startupsbyfunding.drop('year',1)\n",
      "startupsbyfunding.set_index('year',inplace=True)\n",
      "startupsbyfunding.head()\n"
     ],
     "language": "python",
     "metadata": {},
     "outputs": [
      {
       "html": [
        "<div style=\"max-height:1000px;max-width:1500px;overflow:auto;\">\n",
        "<table border=\"1\" class=\"dataframe\">\n",
        "  <thead>\n",
        "    <tr style=\"text-align: right;\">\n",
        "      <th></th>\n",
        "      <th>count</th>\n",
        "      <th>funding</th>\n",
        "    </tr>\n",
        "    <tr>\n",
        "      <th>year</th>\n",
        "      <th></th>\n",
        "      <th></th>\n",
        "    </tr>\n",
        "  </thead>\n",
        "  <tbody>\n",
        "    <tr>\n",
        "      <th>1974</th>\n",
        "      <td> 10</td>\n",
        "      <td> 11664509.433361</td>\n",
        "    </tr>\n",
        "    <tr>\n",
        "      <th>1984</th>\n",
        "      <td> 44</td>\n",
        "      <td>   200000.000000</td>\n",
        "    </tr>\n",
        "    <tr>\n",
        "      <th>1987</th>\n",
        "      <td> 44</td>\n",
        "      <td>  2500000.000000</td>\n",
        "    </tr>\n",
        "    <tr>\n",
        "      <th>1992</th>\n",
        "      <td> 87</td>\n",
        "      <td>  2000000.000000</td>\n",
        "    </tr>\n",
        "    <tr>\n",
        "      <th>1993</th>\n",
        "      <td> 85</td>\n",
        "      <td> 11664509.433361</td>\n",
        "    </tr>\n",
        "  </tbody>\n",
        "</table>\n",
        "</div>"
       ],
       "metadata": {},
       "output_type": "pyout",
       "prompt_number": 78,
       "text": [
        "      count          funding\n",
        "year                        \n",
        "1974     10  11664509.433361\n",
        "1984     44    200000.000000\n",
        "1987     44   2500000.000000\n",
        "1992     87   2000000.000000\n",
        "1993     85  11664509.433361"
       ]
      }
     ],
     "prompt_number": 78
    },
    {
     "cell_type": "code",
     "collapsed": false,
     "input": [
      "#joint.TotalBirths.plot(label='Births',legend=True,figsize=(20,6))\n",
      "#joint.Total.plot(label='Total',legend=True,secondary_y=True,title='Total Births against total expectancy',style='g')\n",
      "#plt.legend(loc='best')\n",
      "#plt.ylabel=('Births')\n",
      "\n",
      "#Method3\n",
      "fig, axes = plt.subplots(nrows=1, ncols=2,figsize=(14,10))\n",
      "fig.subplots_adjust(hspace=0.75)\n",
      "startupsbyfunding['count'].plot(ax=axes[0]); axes[0].set_title('Startups founded by year')\n",
      "startupsbyfunding['funding'].plot(ax=axes[1]); axes[1].set_title('Funding by year (mean)')"
     ],
     "language": "python",
     "metadata": {},
     "outputs": [
      {
       "metadata": {},
       "output_type": "pyout",
       "prompt_number": 80,
       "text": [
        "<matplotlib.text.Text at 0x1112599d0>"
       ]
      }
     ],
     "prompt_number": 80
    },
    {
     "cell_type": "code",
     "collapsed": false,
     "input": [
      "test = companies.groupby('category_code').funding_total_usd.sum()\n",
      "test.sort(ascending=False)\n",
      "test.head()"
     ],
     "language": "python",
     "metadata": {},
     "outputs": [
      {
       "metadata": {},
       "output_type": "pyout",
       "prompt_number": 90,
       "text": [
        "category_code\n",
        "biotech          70684206370\n",
        "software         42325259776\n",
        "cleantech        40541572331\n",
        "mobile           31308611498\n",
        "enterprise       23147227321\n",
        "Name: funding_total_usd, dtype: float64"
       ]
      }
     ],
     "prompt_number": 90
    },
    {
     "cell_type": "code",
     "collapsed": false,
     "input": [
      "test2 = investments.groupby('company_category_code').raised_amount_usd.sum()\n",
      "test2.sort(ascending=False)\n",
      "test2.head()"
     ],
     "language": "python",
     "metadata": {},
     "outputs": [
      {
       "metadata": {},
       "output_type": "pyout",
       "prompt_number": 96,
       "text": [
        "company_category_code\n",
        "biotech                  1.499313e+11\n",
        "software                 9.824571e+10\n",
        "mobile                   8.189185e+10\n",
        "cleantech                7.105174e+10\n",
        "enterprise               5.809166e+10\n",
        "Name: raised_amount_usd, dtype: float64"
       ]
      }
     ],
     "prompt_number": 96
    },
    {
     "cell_type": "code",
     "collapsed": false,
     "input": [
      "test3 = rounds.groupby('company_category_code').raised_amount_usd.sum()\n",
      "test3.sort(ascending=False)\n",
      "test3.head()\n"
     ],
     "language": "python",
     "metadata": {},
     "outputs": [
      {
       "metadata": {},
       "output_type": "pyout",
       "prompt_number": 100,
       "text": [
        "company_category_code\n",
        "biotech                  70683806362\n",
        "software                 42145809774\n",
        "cleantech                40505222332\n",
        "mobile                   31290410501\n",
        "enterprise               23134727324\n",
        "Name: raised_amount_usd, dtype: float64"
       ]
      }
     ],
     "prompt_number": 100
    },
    {
     "cell_type": "code",
     "collapsed": false,
     "input": [
      "\n",
      "from pylab import *\n",
      "figure(1, figsize=(6,6))\n",
      "ax = axes([0.1, 0.1, 0.8, 0.8])\n",
      "\n",
      "# The slices will be ordered and plotted counter-clockwise.\n",
      "labels = 'Biotech', 'Software', 'Mobile', 'CleanTech', 'Enterprise'\n",
      "\n",
      "\n",
      "pie(test2[:5], labels=labels,\n",
      "                autopct='%1.1f%%', shadow=True, startangle=90)\n",
      "                # The default startangle is 0, which would start\n",
      "                # the Frogs slice on the x-axis.  With startangle=90,\n",
      "                # everything is rotated counter-clockwise by 90 degrees,\n",
      "                # so the plotting starts on the positive y-axis.\n",
      "\n",
      "title('Top 5 Funded domains', bbox={'facecolor':'0.8', 'pad':5})\n",
      "\n",
      "show()"
     ],
     "language": "python",
     "metadata": {},
     "outputs": [],
     "prompt_number": 104
    },
    {
     "cell_type": "code",
     "collapsed": false,
     "input": [
      "topinvestors = investments.groupby('investor_name').raised_amount_usd.sum()\n",
      "topinvestors.sort(ascending=False)\n",
      "topinvdf = DataFrame(topinvestors[:15])"
     ],
     "language": "python",
     "metadata": {},
     "outputs": [],
     "prompt_number": 110
    },
    {
     "cell_type": "code",
     "collapsed": false,
     "input": [
      "topinvdf.columns = ['investment_amounts']\n",
      "topinvdf.head()\n",
      "topinvdf.plot(kind='barh')\n",
      "plt.ylabel('Investment firm')\n",
      "plt.xlabel('Investment levels (x 100m)')"
     ],
     "language": "python",
     "metadata": {},
     "outputs": [
      {
       "metadata": {},
       "output_type": "pyout",
       "prompt_number": 118,
       "text": [
        "<matplotlib.text.Text at 0x102b47cd0>"
       ]
      }
     ],
     "prompt_number": 118
    },
    {
     "cell_type": "code",
     "collapsed": false,
     "input": [
      "test4 = companies.groupby('status')\n",
      "print type(test4)\n",
      "#inx=['acquired','ipo']\n",
      "#print test4.ix[inx]\n",
      "\n",
      "#test4.filter(lambda x: x['status']) in ('acquired'|'ipo'))\n",
      "#http://stackoverflow.com/questions/17609540/python-pandas-groupby-filter"
     ],
     "language": "python",
     "metadata": {},
     "outputs": [
      {
       "output_type": "stream",
       "stream": "stdout",
       "text": [
        "<class 'pandas.core.groupby.DataFrameGroupBy'>\n"
       ]
      },
      {
       "html": [
        "<div style=\"max-height:1000px;max-width:1500px;overflow:auto;\">\n",
        "<table border=\"1\" class=\"dataframe\">\n",
        "  <thead>\n",
        "    <tr style=\"text-align: right;\">\n",
        "      <th></th>\n",
        "      <th>funding_total_usd</th>\n",
        "      <th>funding_rounds</th>\n",
        "      <th>founded_year</th>\n",
        "    </tr>\n",
        "    <tr>\n",
        "      <th>status</th>\n",
        "      <th></th>\n",
        "      <th></th>\n",
        "      <th></th>\n",
        "    </tr>\n",
        "  </thead>\n",
        "  <tbody>\n",
        "    <tr>\n",
        "      <th>acquired</th>\n",
        "      <td> 5.449341e+10</td>\n",
        "      <td>  5263</td>\n",
        "      <td>  4348481</td>\n",
        "    </tr>\n",
        "    <tr>\n",
        "      <th>closed</th>\n",
        "      <td> 1.667230e+10</td>\n",
        "      <td>  3705</td>\n",
        "      <td>  4022288</td>\n",
        "    </tr>\n",
        "    <tr>\n",
        "      <th>ipo</th>\n",
        "      <td> 5.643807e+10</td>\n",
        "      <td>  1509</td>\n",
        "      <td>   780802</td>\n",
        "    </tr>\n",
        "    <tr>\n",
        "      <th>operating</th>\n",
        "      <td> 3.222195e+11</td>\n",
        "      <td> 47005</td>\n",
        "      <td> 44442401</td>\n",
        "    </tr>\n",
        "  </tbody>\n",
        "</table>\n",
        "</div>"
       ],
       "metadata": {},
       "output_type": "pyout",
       "prompt_number": 158,
       "text": [
        "           funding_total_usd  funding_rounds  founded_year\n",
        "status                                                    \n",
        "acquired        5.449341e+10            5263       4348481\n",
        "closed          1.667230e+10            3705       4022288\n",
        "ipo             5.643807e+10            1509        780802\n",
        "operating       3.222195e+11           47005      44442401"
       ]
      }
     ],
     "prompt_number": 158
    }
   ],
   "metadata": {}
  }
 ]
}